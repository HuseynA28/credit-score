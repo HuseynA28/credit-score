{
 "cells": [
  {
   "cell_type": "code",
   "execution_count": 1,
   "id": "6493c2a3",
   "metadata": {},
   "outputs": [
    {
     "data": {
      "text/html": [
       "<div>\n",
       "<style scoped>\n",
       "    .dataframe tbody tr th:only-of-type {\n",
       "        vertical-align: middle;\n",
       "    }\n",
       "\n",
       "    .dataframe tbody tr th {\n",
       "        vertical-align: top;\n",
       "    }\n",
       "\n",
       "    .dataframe thead th {\n",
       "        text-align: right;\n",
       "    }\n",
       "</style>\n",
       "<table border=\"1\" class=\"dataframe\">\n",
       "  <thead>\n",
       "    <tr style=\"text-align: right;\">\n",
       "      <th></th>\n",
       "      <th>children</th>\n",
       "      <th>days_employed</th>\n",
       "      <th>dob_years</th>\n",
       "      <th>education</th>\n",
       "      <th>education_id</th>\n",
       "      <th>family_status</th>\n",
       "      <th>family_status_id</th>\n",
       "      <th>gender</th>\n",
       "      <th>income_type</th>\n",
       "      <th>debt</th>\n",
       "      <th>total_income</th>\n",
       "      <th>purpose</th>\n",
       "    </tr>\n",
       "  </thead>\n",
       "  <tbody>\n",
       "    <tr>\n",
       "      <td>0</td>\n",
       "      <td>1</td>\n",
       "      <td>-8437.673028</td>\n",
       "      <td>42</td>\n",
       "      <td>bachelor's degree</td>\n",
       "      <td>0</td>\n",
       "      <td>married</td>\n",
       "      <td>0</td>\n",
       "      <td>F</td>\n",
       "      <td>employee</td>\n",
       "      <td>0</td>\n",
       "      <td>40620.102</td>\n",
       "      <td>purchase of the house</td>\n",
       "    </tr>\n",
       "    <tr>\n",
       "      <td>1</td>\n",
       "      <td>1</td>\n",
       "      <td>-4024.803754</td>\n",
       "      <td>36</td>\n",
       "      <td>secondary education</td>\n",
       "      <td>1</td>\n",
       "      <td>married</td>\n",
       "      <td>0</td>\n",
       "      <td>F</td>\n",
       "      <td>employee</td>\n",
       "      <td>0</td>\n",
       "      <td>17932.802</td>\n",
       "      <td>car purchase</td>\n",
       "    </tr>\n",
       "    <tr>\n",
       "      <td>2</td>\n",
       "      <td>0</td>\n",
       "      <td>-5623.422610</td>\n",
       "      <td>33</td>\n",
       "      <td>Secondary Education</td>\n",
       "      <td>1</td>\n",
       "      <td>married</td>\n",
       "      <td>0</td>\n",
       "      <td>M</td>\n",
       "      <td>employee</td>\n",
       "      <td>0</td>\n",
       "      <td>23341.752</td>\n",
       "      <td>purchase of the house</td>\n",
       "    </tr>\n",
       "    <tr>\n",
       "      <td>3</td>\n",
       "      <td>3</td>\n",
       "      <td>-4124.747207</td>\n",
       "      <td>32</td>\n",
       "      <td>secondary education</td>\n",
       "      <td>1</td>\n",
       "      <td>married</td>\n",
       "      <td>0</td>\n",
       "      <td>M</td>\n",
       "      <td>employee</td>\n",
       "      <td>0</td>\n",
       "      <td>42820.568</td>\n",
       "      <td>supplementary education</td>\n",
       "    </tr>\n",
       "    <tr>\n",
       "      <td>4</td>\n",
       "      <td>0</td>\n",
       "      <td>340266.072047</td>\n",
       "      <td>53</td>\n",
       "      <td>secondary education</td>\n",
       "      <td>1</td>\n",
       "      <td>civil partnership</td>\n",
       "      <td>1</td>\n",
       "      <td>F</td>\n",
       "      <td>retiree</td>\n",
       "      <td>0</td>\n",
       "      <td>25378.572</td>\n",
       "      <td>to have a wedding</td>\n",
       "    </tr>\n",
       "  </tbody>\n",
       "</table>\n",
       "</div>"
      ],
      "text/plain": [
       "   children  days_employed  dob_years            education  education_id  \\\n",
       "0         1   -8437.673028         42    bachelor's degree             0   \n",
       "1         1   -4024.803754         36  secondary education             1   \n",
       "2         0   -5623.422610         33  Secondary Education             1   \n",
       "3         3   -4124.747207         32  secondary education             1   \n",
       "4         0  340266.072047         53  secondary education             1   \n",
       "\n",
       "       family_status  family_status_id gender income_type  debt  total_income  \\\n",
       "0            married                 0      F    employee     0     40620.102   \n",
       "1            married                 0      F    employee     0     17932.802   \n",
       "2            married                 0      M    employee     0     23341.752   \n",
       "3            married                 0      M    employee     0     42820.568   \n",
       "4  civil partnership                 1      F     retiree     0     25378.572   \n",
       "\n",
       "                   purpose  \n",
       "0    purchase of the house  \n",
       "1             car purchase  \n",
       "2    purchase of the house  \n",
       "3  supplementary education  \n",
       "4        to have a wedding  "
      ]
     },
     "execution_count": 1,
     "metadata": {},
     "output_type": "execute_result"
    }
   ],
   "source": [
    "import pandas as pd\n",
    "import numpy as np\n",
    "df= pd.read_csv('datasets/credit_scoring_eng.csv')\n",
    "df.head()"
   ]
  },
  {
   "cell_type": "markdown",
   "id": "cdcbc39b",
   "metadata": {},
   "source": [
    "(Updated) The data give information about people who come from different groups. People are categorized according to, number of children that they have, number of their workdays,  age, education gender, family status, total income, have a debt problem, and the reason why they have a loan. Our task is to find whether there is a correlation among these people: In a simple form, for example, men or women work more or which group earns overall more.  In the data set, the categories are shown in columns "
   ]
  },
  {
   "cell_type": "markdown",
   "id": "6db607bf",
   "metadata": {},
   "source": [
    "Step 2. Data preprocessing"
   ]
  },
  {
   "cell_type": "code",
   "execution_count": 2,
   "id": "3b4e4e94",
   "metadata": {},
   "outputs": [
    {
     "data": {
      "text/plain": [
       "children               0\n",
       "days_employed       2174\n",
       "dob_years              0\n",
       "education              0\n",
       "education_id           0\n",
       "family_status          0\n",
       "family_status_id       0\n",
       "gender                 0\n",
       "income_type            0\n",
       "debt                   0\n",
       "total_income        2174\n",
       "purpose                0\n",
       "dtype: int64"
      ]
     },
     "execution_count": 2,
     "metadata": {},
     "output_type": "execute_result"
    }
   ],
   "source": [
    "df.isna().sum()"
   ]
  },
  {
   "cell_type": "markdown",
   "id": "d0931c4e",
   "metadata": {},
   "source": [
    "I used isna  and sum method to check if there is a missing value."
   ]
  },
  {
   "cell_type": "code",
   "execution_count": 3,
   "id": "af24eedd",
   "metadata": {},
   "outputs": [
    {
     "data": {
      "text/plain": [
       "children             0.0\n",
       "days_employed       10.1\n",
       "dob_years            0.0\n",
       "education            0.0\n",
       "education_id         0.0\n",
       "family_status        0.0\n",
       "family_status_id     0.0\n",
       "gender               0.0\n",
       "income_type          0.0\n",
       "debt                 0.0\n",
       "total_income        10.1\n",
       "purpose              0.0\n",
       "dtype: float64"
      ]
     },
     "execution_count": 3,
     "metadata": {},
     "output_type": "execute_result"
    }
   ],
   "source": [
    "df.isna().mean().round(4) * 100"
   ]
  },
  {
   "cell_type": "markdown",
   "id": "b4a30187",
   "metadata": {},
   "source": [
    "I wanted to know the weather percentages of missing value  is significant . Then We see that yes , it is significant and we should not delete them."
   ]
  },
  {
   "cell_type": "code",
   "execution_count": null,
   "id": "8f83a21b",
   "metadata": {},
   "outputs": [],
   "source": []
  },
  {
   "cell_type": "markdown",
   "id": "7bff58c8",
   "metadata": {},
   "source": [
    "Data type replacement"
   ]
  },
  {
   "cell_type": "code",
   "execution_count": 4,
   "id": "85959c71",
   "metadata": {},
   "outputs": [
    {
     "name": "stdout",
     "output_type": "stream",
     "text": [
      "<class 'pandas.core.frame.DataFrame'>\n",
      "RangeIndex: 21525 entries, 0 to 21524\n",
      "Data columns (total 12 columns):\n",
      "children            21525 non-null int64\n",
      "days_employed       19351 non-null float64\n",
      "dob_years           21525 non-null int64\n",
      "education           21525 non-null object\n",
      "education_id        21525 non-null int64\n",
      "family_status       21525 non-null object\n",
      "family_status_id    21525 non-null int64\n",
      "gender              21525 non-null object\n",
      "income_type         21525 non-null object\n",
      "debt                21525 non-null int64\n",
      "total_income        19351 non-null float64\n",
      "purpose             21525 non-null object\n",
      "dtypes: float64(2), int64(5), object(5)\n",
      "memory usage: 2.0+ MB\n"
     ]
    }
   ],
   "source": [
    "df.info()"
   ]
  },
  {
   "cell_type": "code",
   "execution_count": 5,
   "id": "36d34fe7",
   "metadata": {},
   "outputs": [],
   "source": [
    "#(Updated)\n",
    "df['days_employed']=np.int64(df['days_employed'])\n",
    "df['total_income']=np.int64(df['total_income'])"
   ]
  },
  {
   "cell_type": "markdown",
   "id": "9b93ddf6",
   "metadata": {},
   "source": [
    "                                                    Processing duplicates"
   ]
  },
  {
   "cell_type": "code",
   "execution_count": 6,
   "id": "a44736d4",
   "metadata": {},
   "outputs": [
    {
     "name": "stdout",
     "output_type": "stream",
     "text": [
      "                            Unique value of for\n",
      "|_______________________________________________________________________________|\n",
      "[ 1  0  3  2 -1  4 20  5]\n",
      "________________________________________________________________________________\n",
      "                            Unique value of for\n",
      "|_______________________________________________________________________________|\n",
      "[ -8437  -4024  -5623 ... 362161 373995 343937]\n",
      "________________________________________________________________________________\n",
      "                            Unique value of for\n",
      "|_______________________________________________________________________________|\n",
      "[42 36 33 32 53 27 43 50 35 41 40 65 54 56 26 48 24 21 57 67 28 63 62 47\n",
      " 34 68 25 31 30 20 49 37 45 61 64 44 52 46 23 38 39 51  0 59 29 60 55 58\n",
      " 71 22 73 66 69 19 72 70 74 75]\n",
      "________________________________________________________________________________\n",
      "                            Unique value of for\n",
      "|_______________________________________________________________________________|\n",
      "[\"bachelor's degree\" 'secondary education' 'Secondary Education'\n",
      " 'SECONDARY EDUCATION' \"BACHELOR'S DEGREE\" 'some college'\n",
      " 'primary education' \"Bachelor's Degree\" 'SOME COLLEGE' 'Some College'\n",
      " 'PRIMARY EDUCATION' 'Primary Education' 'Graduate Degree'\n",
      " 'GRADUATE DEGREE' 'graduate degree']\n",
      "________________________________________________________________________________\n",
      "                            Unique value of for\n",
      "|_______________________________________________________________________________|\n",
      "[0 1 2 3 4]\n",
      "________________________________________________________________________________\n",
      "                            Unique value of for\n",
      "|_______________________________________________________________________________|\n",
      "['married' 'civil partnership' 'widow / widower' 'divorced' 'unmarried']\n",
      "________________________________________________________________________________\n",
      "                            Unique value of for\n",
      "|_______________________________________________________________________________|\n",
      "[0 1 2 3 4]\n",
      "________________________________________________________________________________\n",
      "                            Unique value of for\n",
      "|_______________________________________________________________________________|\n",
      "['F' 'M' 'XNA']\n",
      "________________________________________________________________________________\n",
      "                            Unique value of for\n",
      "|_______________________________________________________________________________|\n",
      "['employee' 'retiree' 'business' 'civil servant' 'unemployed'\n",
      " 'entrepreneur' 'student' 'paternity / maternity leave']\n",
      "________________________________________________________________________________\n",
      "                            Unique value of for\n",
      "|_______________________________________________________________________________|\n",
      "[0 1]\n",
      "________________________________________________________________________________\n",
      "                            Unique value of for\n",
      "|_______________________________________________________________________________|\n",
      "[40620 17932 23341 ... 28489 24618 35966]\n",
      "________________________________________________________________________________\n",
      "                            Unique value of for\n",
      "|_______________________________________________________________________________|\n",
      "['purchase of the house' 'car purchase' 'supplementary education'\n",
      " 'to have a wedding' 'housing transactions' 'education' 'having a wedding'\n",
      " 'purchase of the house for my family' 'buy real estate'\n",
      " 'buy commercial real estate' 'buy residential real estate'\n",
      " 'construction of own property' 'property' 'building a property'\n",
      " 'buying a second-hand car' 'buying my own car'\n",
      " 'transactions with commercial real estate' 'building a real estate'\n",
      " 'housing' 'transactions with my real estate' 'cars' 'to become educated'\n",
      " 'second-hand car purchase' 'getting an education' 'car'\n",
      " 'wedding ceremony' 'to get a supplementary education'\n",
      " 'purchase of my own house' 'real estate transactions'\n",
      " 'getting higher education' 'to own a car' 'purchase of a car'\n",
      " 'profile education' 'university education'\n",
      " 'buying property for renting out' 'to buy a car' 'housing renovation'\n",
      " 'going to university']\n",
      "________________________________________________________________________________\n"
     ]
    }
   ],
   "source": [
    "for col in df:\n",
    "    print('                            Unique value of for')\n",
    "    print(\"|_______________________________________________________________________________|\")\n",
    "\n",
    "    \n",
    "    print(df[col].unique())\n",
    "    print('________________________________________________________________________________')"
   ]
  },
  {
   "cell_type": "markdown",
   "id": "ad055d23",
   "metadata": {},
   "source": [
    "I used this code to  see all unique values, beacuse I can know check if all data were correctly filled .\n"
   ]
  },
  {
   "cell_type": "code",
   "execution_count": 7,
   "id": "5eea338a",
   "metadata": {},
   "outputs": [],
   "source": [
    "df['days_employed']=df['days_employed'].apply(abs)\n",
    "df['total_income']=df['total_income'].apply(abs)\n",
    "df['children']=df['children'].apply(abs)"
   ]
  },
  {
   "cell_type": "markdown",
   "id": "08b82a1d",
   "metadata": {},
   "source": [
    "I convert all value into positive because the negative value is these columns (because of the information they have) is not possible"
   ]
  },
  {
   "cell_type": "code",
   "execution_count": 8,
   "id": "a2977475",
   "metadata": {},
   "outputs": [],
   "source": [
    "df.loc[df['children'] == 20, 'children'] =2"
   ]
  },
  {
   "cell_type": "markdown",
   "id": "40f67415",
   "metadata": {},
   "source": [
    "Having 20 children does not seem to be  real, but may be in Carone time, it  is possible."
   ]
  },
  {
   "cell_type": "code",
   "execution_count": 9,
   "id": "ee9aa840",
   "metadata": {},
   "outputs": [],
   "source": [
    "\n",
    "df['days_employed'] = df['days_employed'].fillna(df.groupby('income_type')['days_employed'].transform('mean'))\n",
    "df['total_income'] = df['total_income'].fillna(df.groupby('income_type')['total_income'].transform('mean'))\n"
   ]
  },
  {
   "cell_type": "markdown",
   "id": "d2bc9291",
   "metadata": {},
   "source": [
    "(Updated) I replace the missing value with the mean value of columsn group by the income level. Beacuse In this case we can get more realistic mean number.(Updated)"
   ]
  },
  {
   "cell_type": "code",
   "execution_count": 10,
   "id": "25d5e8e3",
   "metadata": {},
   "outputs": [
    {
     "data": {
      "text/plain": [
       "min                     24\n",
       "max    9223372036854775808\n",
       "Name: days_employed, dtype: uint64"
      ]
     },
     "execution_count": 10,
     "metadata": {},
     "output_type": "execute_result"
    }
   ],
   "source": [
    "# reviewers code\n",
    "df['days_employed'].agg(['min','max'])"
   ]
  },
  {
   "cell_type": "code",
   "execution_count": 11,
   "id": "17be4412",
   "metadata": {},
   "outputs": [],
   "source": [
    "df.loc[df['dob_years'] == 0, 'dob_years'] =int(df['dob_years'].mean())"
   ]
  },
  {
   "cell_type": "markdown",
   "id": "ffd27f3f",
   "metadata": {},
   "source": [
    "There is a zero aga, but of course is not possibe , therefore I replace it with mean value of all ages."
   ]
  },
  {
   "cell_type": "markdown",
   "id": "e6b1467f",
   "metadata": {},
   "source": [
    "Delete duplicate data\""
   ]
  },
  {
   "cell_type": "code",
   "execution_count": 12,
   "id": "3e93181c",
   "metadata": {},
   "outputs": [],
   "source": [
    "df['education'] = df['education'].str.lower()\n",
    "df['purpose'] = df['purpose'].str.lower()"
   ]
  },
  {
   "cell_type": "markdown",
   "id": "88c8d027",
   "metadata": {},
   "source": [
    "Then we can see they are different information or they are just the same thing but Capital letters are different. "
   ]
  },
  {
   "cell_type": "code",
   "execution_count": 13,
   "id": "33112357",
   "metadata": {},
   "outputs": [],
   "source": [
    "df.sort_values(\"total_income\", inplace = True)\n",
    "df.duplicated().sum()\n",
    "df = df.drop_duplicates().reset_index(drop=True)"
   ]
  },
  {
   "cell_type": "code",
   "execution_count": 14,
   "id": "05a1e230",
   "metadata": {},
   "outputs": [
    {
     "data": {
      "text/plain": [
       "0"
      ]
     },
     "execution_count": 14,
     "metadata": {},
     "output_type": "execute_result"
    }
   ],
   "source": [
    "df.duplicated().sum()"
   ]
  },
  {
   "cell_type": "markdown",
   "id": "240d97f4",
   "metadata": {},
   "source": [
    "I dropped all duplicate values because duplicate values could lead to misleading results."
   ]
  },
  {
   "cell_type": "code",
   "execution_count": 15,
   "id": "185bf9a8",
   "metadata": {},
   "outputs": [
    {
     "name": "stdout",
     "output_type": "stream",
     "text": [
      "                            Unique value of for\n",
      "|_______________________________________________________________________________|\n",
      "[0 1 2 3 5 4]\n",
      "________________________________________________________________________________\n",
      "                            Unique value of for\n",
      "|_______________________________________________________________________________|\n",
      "[             359219              369708                3642 ...\n",
      "               10207                5734 9223372036854775808]\n",
      "________________________________________________________________________________\n",
      "                            Unique value of for\n",
      "|_______________________________________________________________________________|\n",
      "[57 37 52 68 61 71 60 43 55 45 46 59 67 28 49 64 50 69 70 27 44 62 54 34\n",
      " 26 24 72 63 35 53 32 21 39 41 65 48 58 29 56 33 47 66 38 40 42 51 74 36\n",
      " 31 23 30 25 22 19 20 73 75]\n",
      "________________________________________________________________________________\n",
      "                            Unique value of for\n",
      "|_______________________________________________________________________________|\n",
      "['secondary education' 'primary education' \"bachelor's degree\"\n",
      " 'some college' 'graduate degree']\n",
      "________________________________________________________________________________\n",
      "                            Unique value of for\n",
      "|_______________________________________________________________________________|\n",
      "[1 3 0 2 4]\n",
      "________________________________________________________________________________\n",
      "                            Unique value of for\n",
      "|_______________________________________________________________________________|\n",
      "['married' 'civil partnership' 'unmarried' 'divorced' 'widow / widower']\n",
      "________________________________________________________________________________\n",
      "                            Unique value of for\n",
      "|_______________________________________________________________________________|\n",
      "[0 1 4 3 2]\n",
      "________________________________________________________________________________\n",
      "                            Unique value of for\n",
      "|_______________________________________________________________________________|\n",
      "['F' 'M' 'XNA']\n",
      "________________________________________________________________________________\n",
      "                            Unique value of for\n",
      "|_______________________________________________________________________________|\n",
      "['retiree' 'employee' 'business' 'civil servant'\n",
      " 'paternity / maternity leave' 'unemployed' 'student' 'entrepreneur']\n",
      "________________________________________________________________________________\n",
      "                            Unique value of for\n",
      "|_______________________________________________________________________________|\n",
      "[1 0]\n",
      "________________________________________________________________________________\n",
      "                            Unique value of for\n",
      "|_______________________________________________________________________________|\n",
      "[               3306                3392                3418 ...\n",
      "              352136              362496 9223372036854775808]\n",
      "________________________________________________________________________________\n",
      "                            Unique value of for\n",
      "|_______________________________________________________________________________|\n",
      "['property' 'going to university' 'car purchase' 'having a wedding'\n",
      " 'transactions with my real estate' 'purchase of the house for my family'\n",
      " 'transactions with commercial real estate' 'university education'\n",
      " 'supplementary education' 'construction of own property'\n",
      " 'buy commercial real estate' 'to become educated' 'to have a wedding'\n",
      " 'buy real estate' 'building a property' 'cars' 'education'\n",
      " 'getting an education' 'purchase of a car' 'purchase of my own house'\n",
      " 'real estate transactions' 'buy residential real estate'\n",
      " 'purchase of the house' 'buying property for renting out'\n",
      " 'building a real estate' 'car' 'buying my own car' 'housing'\n",
      " 'buying a second-hand car' 'to own a car' 'profile education'\n",
      " 'second-hand car purchase' 'getting higher education' 'wedding ceremony'\n",
      " 'to buy a car' 'to get a supplementary education' 'housing transactions'\n",
      " 'housing renovation']\n",
      "________________________________________________________________________________\n"
     ]
    }
   ],
   "source": [
    "for col in df:\n",
    "    print('                            Unique value of for')\n",
    "    print(\"|_______________________________________________________________________________|\")\n",
    "\n",
    "    \n",
    "    print(df[col].unique())\n",
    "    print('________________________________________________________________________________')"
   ]
  },
  {
   "cell_type": "code",
   "execution_count": 16,
   "id": "fd6f1901",
   "metadata": {},
   "outputs": [
    {
     "data": {
      "text/plain": [
       "children            0\n",
       "days_employed       0\n",
       "dob_years           0\n",
       "education           0\n",
       "education_id        0\n",
       "family_status       0\n",
       "family_status_id    0\n",
       "gender              0\n",
       "income_type         0\n",
       "debt                0\n",
       "total_income        0\n",
       "purpose             0\n",
       "dtype: int64"
      ]
     },
     "execution_count": 16,
     "metadata": {},
     "output_type": "execute_result"
    }
   ],
   "source": [
    "df.isna().sum()"
   ]
  },
  {
   "cell_type": "markdown",
   "id": "96569f96",
   "metadata": {},
   "source": [
    "Last time to check data for missing value and duplicate value."
   ]
  },
  {
   "cell_type": "code",
   "execution_count": 17,
   "id": "34ccabe4",
   "metadata": {},
   "outputs": [
    {
     "data": {
      "text/plain": [
       "(21454, 12)"
      ]
     },
     "execution_count": 17,
     "metadata": {},
     "output_type": "execute_result"
    }
   ],
   "source": [
    "df.shape"
   ]
  },
  {
   "cell_type": "markdown",
   "id": "8dd91816",
   "metadata": {},
   "source": [
    "(Updated) Okay, then data is cleaned from unnecessary data, by deleting duplicated values and filling missing values with mean values. Also, we convert some data formats into the correct ones. The data is ready to work on it. The next task will be caterofiring data in proper ways to find correction amounts in these groups and see if this correlation is significant. I type shape to see change in our data . The number of row is less now."
   ]
  },
  {
   "cell_type": "markdown",
   "id": "dc0613bc",
   "metadata": {},
   "source": [
    "                                                                      Categorizing Data"
   ]
  },
  {
   "cell_type": "code",
   "execution_count": 18,
   "id": "44b2426d",
   "metadata": {},
   "outputs": [
    {
     "data": {
      "text/html": [
       "<div>\n",
       "<style scoped>\n",
       "    .dataframe tbody tr th:only-of-type {\n",
       "        vertical-align: middle;\n",
       "    }\n",
       "\n",
       "    .dataframe tbody tr th {\n",
       "        vertical-align: top;\n",
       "    }\n",
       "\n",
       "    .dataframe thead th {\n",
       "        text-align: right;\n",
       "    }\n",
       "</style>\n",
       "<table border=\"1\" class=\"dataframe\">\n",
       "  <thead>\n",
       "    <tr style=\"text-align: right;\">\n",
       "      <th></th>\n",
       "      <th>children</th>\n",
       "      <th>days_employed</th>\n",
       "      <th>dob_years</th>\n",
       "      <th>education</th>\n",
       "      <th>education_id</th>\n",
       "      <th>family_status</th>\n",
       "      <th>family_status_id</th>\n",
       "      <th>gender</th>\n",
       "      <th>income_type</th>\n",
       "      <th>debt</th>\n",
       "      <th>total_income</th>\n",
       "      <th>purpose</th>\n",
       "    </tr>\n",
       "  </thead>\n",
       "  <tbody>\n",
       "    <tr>\n",
       "      <td>0</td>\n",
       "      <td>0</td>\n",
       "      <td>359219</td>\n",
       "      <td>57</td>\n",
       "      <td>secondary education</td>\n",
       "      <td>1</td>\n",
       "      <td>married</td>\n",
       "      <td>0</td>\n",
       "      <td>F</td>\n",
       "      <td>retiree</td>\n",
       "      <td>1</td>\n",
       "      <td>3306</td>\n",
       "      <td>property</td>\n",
       "    </tr>\n",
       "    <tr>\n",
       "      <td>1</td>\n",
       "      <td>0</td>\n",
       "      <td>369708</td>\n",
       "      <td>37</td>\n",
       "      <td>secondary education</td>\n",
       "      <td>1</td>\n",
       "      <td>civil partnership</td>\n",
       "      <td>1</td>\n",
       "      <td>M</td>\n",
       "      <td>retiree</td>\n",
       "      <td>0</td>\n",
       "      <td>3392</td>\n",
       "      <td>going to university</td>\n",
       "    </tr>\n",
       "    <tr>\n",
       "      <td>2</td>\n",
       "      <td>1</td>\n",
       "      <td>3642</td>\n",
       "      <td>52</td>\n",
       "      <td>secondary education</td>\n",
       "      <td>1</td>\n",
       "      <td>married</td>\n",
       "      <td>0</td>\n",
       "      <td>M</td>\n",
       "      <td>employee</td>\n",
       "      <td>0</td>\n",
       "      <td>3418</td>\n",
       "      <td>car purchase</td>\n",
       "    </tr>\n",
       "    <tr>\n",
       "      <td>3</td>\n",
       "      <td>0</td>\n",
       "      <td>359726</td>\n",
       "      <td>68</td>\n",
       "      <td>secondary education</td>\n",
       "      <td>1</td>\n",
       "      <td>civil partnership</td>\n",
       "      <td>1</td>\n",
       "      <td>M</td>\n",
       "      <td>retiree</td>\n",
       "      <td>0</td>\n",
       "      <td>3471</td>\n",
       "      <td>having a wedding</td>\n",
       "    </tr>\n",
       "    <tr>\n",
       "      <td>4</td>\n",
       "      <td>0</td>\n",
       "      <td>346602</td>\n",
       "      <td>61</td>\n",
       "      <td>secondary education</td>\n",
       "      <td>1</td>\n",
       "      <td>married</td>\n",
       "      <td>0</td>\n",
       "      <td>F</td>\n",
       "      <td>retiree</td>\n",
       "      <td>0</td>\n",
       "      <td>3503</td>\n",
       "      <td>property</td>\n",
       "    </tr>\n",
       "    <tr>\n",
       "      <td>...</td>\n",
       "      <td>...</td>\n",
       "      <td>...</td>\n",
       "      <td>...</td>\n",
       "      <td>...</td>\n",
       "      <td>...</td>\n",
       "      <td>...</td>\n",
       "      <td>...</td>\n",
       "      <td>...</td>\n",
       "      <td>...</td>\n",
       "      <td>...</td>\n",
       "      <td>...</td>\n",
       "      <td>...</td>\n",
       "    </tr>\n",
       "    <tr>\n",
       "      <td>21449</td>\n",
       "      <td>0</td>\n",
       "      <td>9223372036854775808</td>\n",
       "      <td>68</td>\n",
       "      <td>secondary education</td>\n",
       "      <td>1</td>\n",
       "      <td>married</td>\n",
       "      <td>0</td>\n",
       "      <td>F</td>\n",
       "      <td>retiree</td>\n",
       "      <td>0</td>\n",
       "      <td>9223372036854775808</td>\n",
       "      <td>buy residential real estate</td>\n",
       "    </tr>\n",
       "    <tr>\n",
       "      <td>21450</td>\n",
       "      <td>2</td>\n",
       "      <td>9223372036854775808</td>\n",
       "      <td>50</td>\n",
       "      <td>some college</td>\n",
       "      <td>2</td>\n",
       "      <td>married</td>\n",
       "      <td>0</td>\n",
       "      <td>F</td>\n",
       "      <td>business</td>\n",
       "      <td>0</td>\n",
       "      <td>9223372036854775808</td>\n",
       "      <td>purchase of my own house</td>\n",
       "    </tr>\n",
       "    <tr>\n",
       "      <td>21451</td>\n",
       "      <td>1</td>\n",
       "      <td>9223372036854775808</td>\n",
       "      <td>39</td>\n",
       "      <td>secondary education</td>\n",
       "      <td>1</td>\n",
       "      <td>married</td>\n",
       "      <td>0</td>\n",
       "      <td>F</td>\n",
       "      <td>employee</td>\n",
       "      <td>0</td>\n",
       "      <td>9223372036854775808</td>\n",
       "      <td>buy commercial real estate</td>\n",
       "    </tr>\n",
       "    <tr>\n",
       "      <td>21452</td>\n",
       "      <td>2</td>\n",
       "      <td>9223372036854775808</td>\n",
       "      <td>30</td>\n",
       "      <td>secondary education</td>\n",
       "      <td>1</td>\n",
       "      <td>civil partnership</td>\n",
       "      <td>1</td>\n",
       "      <td>F</td>\n",
       "      <td>employee</td>\n",
       "      <td>0</td>\n",
       "      <td>9223372036854775808</td>\n",
       "      <td>to have a wedding</td>\n",
       "    </tr>\n",
       "    <tr>\n",
       "      <td>21453</td>\n",
       "      <td>2</td>\n",
       "      <td>9223372036854775808</td>\n",
       "      <td>31</td>\n",
       "      <td>secondary education</td>\n",
       "      <td>1</td>\n",
       "      <td>married</td>\n",
       "      <td>0</td>\n",
       "      <td>F</td>\n",
       "      <td>employee</td>\n",
       "      <td>0</td>\n",
       "      <td>9223372036854775808</td>\n",
       "      <td>buying a second-hand car</td>\n",
       "    </tr>\n",
       "  </tbody>\n",
       "</table>\n",
       "<p>21454 rows × 12 columns</p>\n",
       "</div>"
      ],
      "text/plain": [
       "       children        days_employed  dob_years            education  \\\n",
       "0             0               359219         57  secondary education   \n",
       "1             0               369708         37  secondary education   \n",
       "2             1                 3642         52  secondary education   \n",
       "3             0               359726         68  secondary education   \n",
       "4             0               346602         61  secondary education   \n",
       "...         ...                  ...        ...                  ...   \n",
       "21449         0  9223372036854775808         68  secondary education   \n",
       "21450         2  9223372036854775808         50         some college   \n",
       "21451         1  9223372036854775808         39  secondary education   \n",
       "21452         2  9223372036854775808         30  secondary education   \n",
       "21453         2  9223372036854775808         31  secondary education   \n",
       "\n",
       "       education_id      family_status  family_status_id gender income_type  \\\n",
       "0                 1            married                 0      F     retiree   \n",
       "1                 1  civil partnership                 1      M     retiree   \n",
       "2                 1            married                 0      M    employee   \n",
       "3                 1  civil partnership                 1      M     retiree   \n",
       "4                 1            married                 0      F     retiree   \n",
       "...             ...                ...               ...    ...         ...   \n",
       "21449             1            married                 0      F     retiree   \n",
       "21450             2            married                 0      F    business   \n",
       "21451             1            married                 0      F    employee   \n",
       "21452             1  civil partnership                 1      F    employee   \n",
       "21453             1            married                 0      F    employee   \n",
       "\n",
       "       debt         total_income                      purpose  \n",
       "0         1                 3306                     property  \n",
       "1         0                 3392          going to university  \n",
       "2         0                 3418                 car purchase  \n",
       "3         0                 3471             having a wedding  \n",
       "4         0                 3503                     property  \n",
       "...     ...                  ...                          ...  \n",
       "21449     0  9223372036854775808  buy residential real estate  \n",
       "21450     0  9223372036854775808     purchase of my own house  \n",
       "21451     0  9223372036854775808   buy commercial real estate  \n",
       "21452     0  9223372036854775808            to have a wedding  \n",
       "21453     0  9223372036854775808     buying a second-hand car  \n",
       "\n",
       "[21454 rows x 12 columns]"
      ]
     },
     "execution_count": 18,
     "metadata": {},
     "output_type": "execute_result"
    }
   ],
   "source": [
    "df"
   ]
  },
  {
   "cell_type": "markdown",
   "id": "8a652929",
   "metadata": {},
   "source": [
    "                                                              Categorizing Data"
   ]
  },
  {
   "cell_type": "code",
   "execution_count": 19,
   "id": "e259b1d2",
   "metadata": {},
   "outputs": [],
   "source": [
    "def age_group(dob_years):\n",
    "    \n",
    "    \"\"\"\n",
    "    The function returns the age group according to the age value, using the following rules:\n",
    "    —'children' for age <= 18\n",
    "    —'adult' for 19 <= age <= 64\n",
    "    —'retired' for all other cases\n",
    "    \"\"\"\n",
    "    if dob_years <= 18:\n",
    "        return 'children' \n",
    "    if dob_years <= 64:\n",
    "        return 'adult'\n",
    "    return 'retired' \n",
    "\n",
    "df['dob_years'] = df['dob_years'].apply(age_group)"
   ]
  },
  {
   "cell_type": "markdown",
   "id": "c5422108",
   "metadata": {},
   "source": [
    "I categorized ages into 3 groups, We can see that there is no child in our data. categorizing is beneficial because it makes it possible to focus on specific groups and find the correlation. For example the next command in line 19 and 20 \n",
    ":"
   ]
  },
  {
   "cell_type": "code",
   "execution_count": 20,
   "id": "19881bd5",
   "metadata": {},
   "outputs": [],
   "source": [
    "df['total_income'] = pd.to_numeric(df['total_income'], errors='coerce')\n",
    " \n",
    "def income_level(total_income):\n",
    "    \"\"\"\n",
    "Low-income - under 10,000\n",
    "Lower-middle income - 10,001 - 20,000\n",
    "Upper-middle income - 20,001 - 30,000\n",
    "High income > 30,001\n",
    "    \"\"\"\n",
    " \n",
    "    if total_income <= 10000:\n",
    "        return 'low_income'\n",
    "    if total_income <= 20000:\n",
    "        return 'mid_income'\n",
    "    if total_income <= 30000:\n",
    "        return 'high_income'\n",
    "    return 'very_high_income'\n",
    " \n",
    "df['income_level'] = df['total_income'].apply(income_level)\n"
   ]
  },
  {
   "cell_type": "code",
   "execution_count": 21,
   "id": "377277f3",
   "metadata": {},
   "outputs": [
    {
     "data": {
      "text/plain": [
       "very_high_income    8022\n",
       "mid_income          6443\n",
       "high_income         6062\n",
       "low_income           927\n",
       "Name: income_level, dtype: int64"
      ]
     },
     "execution_count": 21,
     "metadata": {},
     "output_type": "execute_result"
    }
   ],
   "source": [
    "df['income_level'].value_counts()"
   ]
  },
  {
   "cell_type": "markdown",
   "id": "f1c4b18d",
   "metadata": {},
   "source": [
    "we can also categorized people according to their income level."
   ]
  },
  {
   "cell_type": "code",
   "execution_count": 22,
   "id": "9424f547",
   "metadata": {},
   "outputs": [],
   "source": [
    "def purpose_loan_out(purpose):\n",
    " \n",
    "    if purpose == 'construction of own property' or purpose=='building a property' or purpose=='buying property for renting out'or purpose=='property' :\n",
    "        return 'property'\n",
    "    if purpose=='going to university' or purpose=='to become educated' or purpose=='getting an education' or purpose=='profile education' or purpose=='getting higher education' or purpose=='to get a supplementary education' or purpose=='education'  :\n",
    "        return 'education'\n",
    "    if purpose == 'cars' or purpose=='purchase of a car' or purpose=='buying my own car' or purpose=='buying a second-hand car'or purpose=='second-hand car purchase'or purpose=='to own a car'  or purpose=='to buy a car' or purpose=='car purchase':\n",
    "        return 'car purchase'\n",
    "    if purpose=='having a wedding' or purpose=='to have a wedding' or purpose=='wedding ceremony' :\n",
    "        return 'wedding ceremony'\n",
    "    if purpose=='transactions with my real estate' or purpose=='housing' or purpose=='purchase of the house for my family' or purpose=='purchase of my own house' or purpose=='buy real estate' or purpose=='purchase of the house' or purpose=='building a real estate' :\n",
    "        return 'purchase of my own house'\n",
    "    if purpose=='transactions with commercial real estate' or purpose=='buy commercial real estate' or purpose=='real estate transactions':\n",
    "        return 'purchase house for rent'\n",
    "    if purpose=='housing renovation':\n",
    "        return 'housing renovation'\n",
    "            \n",
    "            \n",
    "df['purpose_loan_out'] = df['purpose'].apply(purpose_loan_out)    \n"
   ]
  },
  {
   "cell_type": "code",
   "execution_count": 23,
   "id": "22b8ef07",
   "metadata": {},
   "outputs": [
    {
     "data": {
      "text/plain": [
       "purchase of my own house    4422\n",
       "car purchase                3812\n",
       "education                   3101\n",
       "property                    2538\n",
       "wedding ceremony            2324\n",
       "purchase house for rent     1986\n",
       "housing renovation           607\n",
       "Name: purpose_loan_out, dtype: int64"
      ]
     },
     "execution_count": 23,
     "metadata": {},
     "output_type": "execute_result"
    }
   ],
   "source": [
    "df['purpose_loan_out'].value_counts()"
   ]
  },
  {
   "cell_type": "markdown",
   "id": "bdc40745",
   "metadata": {},
   "source": [
    "There is a lot of the same information in data, by categorizing them in 7 groups, it will be easier to compare."
   ]
  },
  {
   "cell_type": "code",
   "execution_count": 24,
   "id": "6511a58c",
   "metadata": {},
   "outputs": [
    {
     "data": {
      "text/plain": [
       "dob_years\n",
       "adult      1.868655e+22\n",
       "retired    7.101996e+20\n",
       "Name: total_income, dtype: float64"
      ]
     },
     "execution_count": 24,
     "metadata": {},
     "output_type": "execute_result"
    }
   ],
   "source": [
    "df.groupby('dob_years')['total_income'].sum()"
   ]
  },
  {
   "cell_type": "code",
   "execution_count": 25,
   "id": "e1610ed1",
   "metadata": {},
   "outputs": [
    {
     "data": {
      "text/html": [
       "<div>\n",
       "<style scoped>\n",
       "    .dataframe tbody tr th:only-of-type {\n",
       "        vertical-align: middle;\n",
       "    }\n",
       "\n",
       "    .dataframe tbody tr th {\n",
       "        vertical-align: top;\n",
       "    }\n",
       "\n",
       "    .dataframe thead th {\n",
       "        text-align: right;\n",
       "    }\n",
       "</style>\n",
       "<table border=\"1\" class=\"dataframe\">\n",
       "  <thead>\n",
       "    <tr style=\"text-align: right;\">\n",
       "      <th></th>\n",
       "      <th>children</th>\n",
       "      <th>days_employed</th>\n",
       "      <th>education_id</th>\n",
       "      <th>family_status_id</th>\n",
       "      <th>debt</th>\n",
       "      <th>total_income</th>\n",
       "    </tr>\n",
       "    <tr>\n",
       "      <th>dob_years</th>\n",
       "      <th></th>\n",
       "      <th></th>\n",
       "      <th></th>\n",
       "      <th></th>\n",
       "      <th></th>\n",
       "      <th></th>\n",
       "    </tr>\n",
       "  </thead>\n",
       "  <tbody>\n",
       "    <tr>\n",
       "      <td>adult</td>\n",
       "      <td>10268</td>\n",
       "      <td>1.868655e+22</td>\n",
       "      <td>16695</td>\n",
       "      <td>19925</td>\n",
       "      <td>1692</td>\n",
       "      <td>1.868655e+22</td>\n",
       "    </tr>\n",
       "    <tr>\n",
       "      <td>retired</td>\n",
       "      <td>42</td>\n",
       "      <td>7.101996e+20</td>\n",
       "      <td>835</td>\n",
       "      <td>969</td>\n",
       "      <td>49</td>\n",
       "      <td>7.101996e+20</td>\n",
       "    </tr>\n",
       "  </tbody>\n",
       "</table>\n",
       "</div>"
      ],
      "text/plain": [
       "           children  days_employed  education_id  family_status_id  debt  \\\n",
       "dob_years                                                                  \n",
       "adult         10268   1.868655e+22         16695             19925  1692   \n",
       "retired          42   7.101996e+20           835               969    49   \n",
       "\n",
       "           total_income  \n",
       "dob_years                \n",
       "adult      1.868655e+22  \n",
       "retired    7.101996e+20  "
      ]
     },
     "execution_count": 25,
     "metadata": {},
     "output_type": "execute_result"
    }
   ],
   "source": [
    "df.groupby('dob_years').sum()"
   ]
  },
  {
   "cell_type": "markdown",
   "id": "428aa83c",
   "metadata": {},
   "source": [
    "Here we see that adult's income is larger than retired's income ."
   ]
  },
  {
   "cell_type": "markdown",
   "id": "f0021e19",
   "metadata": {},
   "source": [
    "We can also use these categorized data to find out, which group we have to focus on more. For example, we see that adults have more debt, we can go them some idea about debt."
   ]
  },
  {
   "cell_type": "markdown",
   "id": "ccea0705",
   "metadata": {},
   "source": [
    "(Updated) We categorized data according to age group, income level, and purpose for applying for a loan. Then we can compare the data easily because we can focus on the specific data groups.  We have now a compacted data set. The next task will be to dive more into data to find relations between different groups."
   ]
  },
  {
   "cell_type": "markdown",
   "id": "63a51848",
   "metadata": {},
   "source": [
    "                                                                          Step 3. Answer these questions:"
   ]
  },
  {
   "cell_type": "code",
   "execution_count": 26,
   "id": "0f62e5de",
   "metadata": {},
   "outputs": [
    {
     "data": {
      "text/plain": [
       "children\n",
       "0    7.5\n",
       "1    9.2\n",
       "2    9.5\n",
       "3    8.2\n",
       "4    9.8\n",
       "5    0.0\n",
       "Name: debt, dtype: float64"
      ]
     },
     "execution_count": 26,
     "metadata": {},
     "output_type": "execute_result"
    }
   ],
   "source": [
    "df.groupby('children')['debt'].mean().round(3)*100"
   ]
  },
  {
   "cell_type": "markdown",
   "id": "9a2a0739",
   "metadata": {},
   "source": [
    "Is there a relation between having kids and repaying a loan on time"
   ]
  },
  {
   "cell_type": "markdown",
   "id": "d1f8cb2b",
   "metadata": {},
   "source": [
    "(Updated) We can see that there 9.8 percent of people who have 4 children have also a problem paying back the loan. But people who just have one more child have almost no problem with debt. Therefore, it is clear that there is no correlation between the number of children and haveing problems with paying back the debt."
   ]
  },
  {
   "cell_type": "code",
   "execution_count": 27,
   "id": "d7e3f9bb",
   "metadata": {},
   "outputs": [
    {
     "data": {
      "text/plain": [
       "family_status\n",
       "civil partnership    9.3\n",
       "divorced             7.1\n",
       "married              7.5\n",
       "unmarried            9.8\n",
       "widow / widower      6.6\n",
       "Name: debt, dtype: float64"
      ]
     },
     "execution_count": 27,
     "metadata": {},
     "output_type": "execute_result"
    }
   ],
   "source": [
    "df.groupby('family_status')['debt'].mean().round(3)*100"
   ]
  },
  {
   "cell_type": "markdown",
   "id": "2236276c",
   "metadata": {},
   "source": [
    "\n",
    "Is there a relation between marital status and repaying a loan on time?"
   ]
  },
  {
   "cell_type": "markdown",
   "id": "809c9ab3",
   "metadata": {},
   "source": [
    "civil partnership and  unmarried group have the the higest amount of debt."
   ]
  },
  {
   "cell_type": "code",
   "execution_count": 28,
   "id": "40132827",
   "metadata": {},
   "outputs": [
    {
     "data": {
      "text/plain": [
       "income_level\n",
       "high_income         8.7\n",
       "low_income          6.3\n",
       "mid_income          8.5\n",
       "very_high_income    7.6\n",
       "Name: debt, dtype: float64"
      ]
     },
     "execution_count": 28,
     "metadata": {},
     "output_type": "execute_result"
    }
   ],
   "source": [
    "df.groupby('income_level')['debt'].mean().round(3)*100"
   ]
  },
  {
   "cell_type": "markdown",
   "id": "88661bba",
   "metadata": {},
   "source": [
    "Is there a relation between marital status and repaying a loan on time?"
   ]
  },
  {
   "cell_type": "markdown",
   "id": "c284268e",
   "metadata": {},
   "source": [
    "#There is no increasing or decreasing trend as people becoming richer. \n",
    "Updated. We see that people who have high income , have also most problem paying back the debt in time . This number is lest in low income goup . people in very high income group have less problem with debt in comparision with high income."
   ]
  },
  {
   "cell_type": "code",
   "execution_count": 29,
   "id": "3694bc8a",
   "metadata": {},
   "outputs": [
    {
     "data": {
      "text/plain": [
       "purpose_loan_out\n",
       "car purchase                9.5\n",
       "education                   9.4\n",
       "housing renovation          5.8\n",
       "property                    7.5\n",
       "purchase house for rent     7.8\n",
       "purchase of my own house    7.1\n",
       "wedding ceremony            8.0\n",
       "Name: debt, dtype: float64"
      ]
     },
     "execution_count": 29,
     "metadata": {},
     "output_type": "execute_result"
    }
   ],
   "source": [
    "df.groupby('purpose_loan_out')['debt'].mean().round(3)*100"
   ]
  },
  {
   "cell_type": "markdown",
   "id": "8f2703ec",
   "metadata": {},
   "source": [
    "Is there a relation between income level and repaying a loan on time?"
   ]
  },
  {
   "cell_type": "markdown",
   "id": "91dc30ae",
   "metadata": {},
   "source": [
    "  (Updated)  The data shows that most of the people who get a loan and cannot pay in time back wanted to buy a car or to get an education. The next group which has a problem with a loan is who gets a loan for the wedding ceremony.  The least a number of people who paid the debt, not in time, get the loan for housing renovation. I would say that people who have relatively less problem with paying their loan in time, mainly get this credit for house or property related reasons."
   ]
  },
  {
   "cell_type": "markdown",
   "id": "573a8fc7",
   "metadata": {},
   "source": [
    "Step 4. General conclusion"
   ]
  },
  {
   "cell_type": "markdown",
   "id": "578ef67d",
   "metadata": {},
   "source": [
    "The data is about to research people who have different backgrounds. After cleaning the data unnecessary information these are 21454 rows and 12 columns. So the data set has a significant amount of information to come to a conclusion. Then data are categorized into different groups such as income level, the purpose of the loan, and age group. They compared these categories. In other to find a relation among the groups I grouped the columns. Then I see that there a correlation between income level, the purpose of the loan, family status, and having a problem with paying the debt in time. For me, it is interesting that most people who get the debt to buy a car have a problem with paying their loan in time. And also higher income group have the same problem.  "
   ]
  }
 ],
 "metadata": {
  "kernelspec": {
   "display_name": "Python 3",
   "language": "python",
   "name": "python3"
  },
  "language_info": {
   "codemirror_mode": {
    "name": "ipython",
    "version": 3
   },
   "file_extension": ".py",
   "mimetype": "text/x-python",
   "name": "python",
   "nbconvert_exporter": "python",
   "pygments_lexer": "ipython3",
   "version": "3.7.10"
  },
  "toc": {
   "base_numbering": 1,
   "nav_menu": {},
   "number_sections": true,
   "sideBar": true,
   "skip_h1_title": true,
   "title_cell": "Table of Contents",
   "title_sidebar": "Contents",
   "toc_cell": false,
   "toc_position": {},
   "toc_section_display": true,
   "toc_window_display": false
  }
 },
 "nbformat": 4,
 "nbformat_minor": 5
}
